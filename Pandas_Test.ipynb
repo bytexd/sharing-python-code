{
  "nbformat": 4,
  "nbformat_minor": 0,
  "metadata": {
    "colab": {
      "name": "Pandas Test.ipynb",
      "provenance": []
    },
    "kernelspec": {
      "name": "python3",
      "display_name": "Python 3"
    }
  },
  "cells": [
    {
      "cell_type": "code",
      "metadata": {
        "id": "B1hR_SzpZ826",
        "colab_type": "code",
        "colab": {
          "base_uri": "https://localhost:8080/",
          "height": 89
        },
        "outputId": "2c517765-98f5-4f78-da7e-3f4e791de750"
      },
      "source": [
        "import pandas as pd\n",
        "\n",
        "# Creating an empty Dataframe with column names only\n",
        "dfObj = pd.DataFrame(columns=['User_ID', 'UserName', 'Action'])\n",
        "print(\"Empty Dataframe \", dfObj, sep='\\n')"
      ],
      "execution_count": 3,
      "outputs": [
        {
          "output_type": "stream",
          "text": [
            "Empty Dataframe \n",
            "Empty DataFrame\n",
            "Columns: [User_ID, UserName, Action]\n",
            "Index: []\n"
          ],
          "name": "stdout"
        }
      ]
    }
  ]
}